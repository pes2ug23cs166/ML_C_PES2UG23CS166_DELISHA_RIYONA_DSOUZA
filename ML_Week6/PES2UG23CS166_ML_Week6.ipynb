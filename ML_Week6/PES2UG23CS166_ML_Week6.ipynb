{
  "cells": [
    {
      "cell_type": "code",
      "execution_count": 1,
      "metadata": {
        "id": "pmFV2M6aiTZn"
      },
      "outputs": [],
      "source": [
        "import numpy as np\n",
        "import pandas as pd\n",
        "import matplotlib.pyplot as plt\n",
        "from sklearn.model_selection import train_test_split\n",
        "from sklearn.preprocessing import StandardScaler"
      ]
    },
    {
      "cell_type": "markdown",
      "metadata": {
        "id": "FH43EEkHnlXe"
      },
      "source": [
        "##PART -A"
      ]
    },
    {
      "cell_type": "code",
      "execution_count": 2,
      "metadata": {
        "id": "l92L0SzRqAJV"
      },
      "outputs": [],
      "source": [
        "STUDENT_ID = \"PES2UG23CS166\""
      ]
    },
    {
      "cell_type": "markdown",
      "metadata": {
        "id": "FKJwX-nErts-"
      },
      "source": [
        "# AUTOMATIC ASSIGNMENT BASED ON SRN - DO NOT MODIFY"
      ]
    },
    {
      "cell_type": "code",
      "execution_count": 3,
      "metadata": {
        "colab": {
          "base_uri": "https://localhost:8080/"
        },
        "id": "enIibAVbrouX",
        "outputId": "2375f7ff-2bc3-44c2-adfb-123d7144bc54"
      },
      "outputs": [
        {
          "output_type": "stream",
          "name": "stdout",
          "text": [
            "======================================================================\n",
            "ASSIGNMENT FOR STUDENT ID: PES2UG23CS166\n",
            "======================================================================\n",
            "Polynomial Type: CUBIC: y = 2.01x³ + -0.04x² + 5.30x + 8.11\n",
            "Noise Level: ε ~ N(0, 2.29)\n",
            "Architecture: Input(1) → Hidden(72) → Hidden(32) → Output(1)\n",
            "Learning Rate: 0.001\n",
            "Architecture Type: Wide-to-Narrow Architecture\n",
            "======================================================================\n"
          ]
        }
      ],
      "source": [
        "def get_student_assignment(student_id):\n",
        "    \"\"\"\n",
        "    Generate unique polynomial TYPE and architecture based on student ID\n",
        "    Uses last 3 digits of student ID for assignment\n",
        "    \"\"\"\n",
        "\n",
        "    last_three = int(student_id[-3:])\n",
        "\n",
        "    poly_type = last_three % 5\n",
        "\n",
        "    np.random.seed(last_three)\n",
        "\n",
        "    if poly_type == 0:\n",
        "        degree = 2\n",
        "        a = 0\n",
        "        b = np.random.uniform(0.8, 1.5)\n",
        "        c = np.random.uniform(3.0, 8.0)\n",
        "        d = np.random.uniform(5.0, 15.0)\n",
        "        poly_desc = f\"QUADRATIC: y = {b:.2f}x² + {c:.2f}x + {d:.2f}\"\n",
        "\n",
        "    elif poly_type == 1:\n",
        "        degree = 3\n",
        "        a = np.random.uniform(1.8, 2.5)\n",
        "        b = np.random.uniform(-1.2, 0.2)\n",
        "        c = np.random.uniform(3.0, 6.0)\n",
        "        d = np.random.uniform(8.0, 12.0)\n",
        "        poly_desc = f\"CUBIC: y = {a:.2f}x³ + {b:.2f}x² + {c:.2f}x + {d:.2f}\"\n",
        "\n",
        "    elif poly_type == 2:\n",
        "        degree = 4\n",
        "        a = np.random.uniform(0.008, 0.02)\n",
        "        b = np.random.uniform(1.5, 2.2)\n",
        "        c = np.random.uniform(-1.0, 0.5)\n",
        "        d = np.random.uniform(2.0, 5.0)\n",
        "        e = np.random.uniform(8.0, 12.0)\n",
        "        poly_desc = f\"QUARTIC: y = {a:.4f}x⁴ + {b:.2f}x³ + {c:.2f}x² + {d:.2f}x + {e:.2f}\"\n",
        "        coefficients = (a, b, c, d, e)\n",
        "\n",
        "    elif poly_type == 3:\n",
        "        degree = \"sine\"\n",
        "        a = np.random.uniform(1.5, 2.8)\n",
        "        b = np.random.uniform(-0.8, 0.8)\n",
        "        c = np.random.uniform(3.0, 6.0)\n",
        "        d = np.random.uniform(8.0, 12.0)\n",
        "        freq = np.random.uniform(0.02, 0.05)\n",
        "        amp = np.random.uniform(5.0, 15.0)\n",
        "        poly_desc = f\"CUBIC + SINE: y = {a:.2f}x³ + {b:.2f}x² + {c:.2f}x + {d:.2f} + {amp:.1f}*sin({freq:.3f}x)\"\n",
        "        coefficients = (a, b, c, d, freq, amp)\n",
        "\n",
        "    else:\n",
        "        degree = \"inverse\"\n",
        "        a = np.random.uniform(1.8, 2.5)\n",
        "        b = np.random.uniform(-1.0, 0.5)\n",
        "        c = np.random.uniform(3.0, 6.0)\n",
        "        d = np.random.uniform(8.0, 12.0)\n",
        "        inv_coeff = np.random.uniform(50, 200)\n",
        "        poly_desc = f\"CUBIC + INVERSE: y = {a:.2f}x³ + {b:.2f}x² + {c:.2f}x + {d:.2f} + {inv_coeff:.1f}/x\"\n",
        "        coefficients = (a, b, c, d, inv_coeff)\n",
        "\n",
        "\n",
        "    if poly_type in [0, 1]:\n",
        "        coefficients = (a, b, c, d)\n",
        "\n",
        "\n",
        "    noise_std = np.random.uniform(1.5, 2.5)\n",
        "\n",
        "\n",
        "    arch_type = last_three % 4\n",
        "    architectures = {\n",
        "        0: {\"hidden1\": 64, \"hidden2\": 64, \"lr\": 0.001, \"batch_desc\": \"Balanced Architecture\"},\n",
        "        1: {\"hidden1\": 32, \"hidden2\": 72, \"lr\": 0.005, \"batch_desc\": \"Narrow-to-Wide Architecture\"},\n",
        "        2: {\"hidden1\": 72, \"hidden2\": 32, \"lr\": 0.001, \"batch_desc\": \"Wide-to-Narrow Architecture\"},\n",
        "        3: {\"hidden1\": 96, \"hidden2\": 96, \"lr\": 0.003, \"batch_desc\": \"Large Balanced Architecture\"}\n",
        "    }\n",
        "\n",
        "    return {\n",
        "        \"polynomial_type\": poly_type,\n",
        "        \"degree\": degree,\n",
        "        \"coefficients\": coefficients,\n",
        "        \"polynomial_desc\": poly_desc,\n",
        "        \"noise_std\": noise_std,\n",
        "        \"architecture\": architectures[arch_type],\n",
        "        \"student_seed\": last_three\n",
        "    }\n",
        "\n",
        "# Get your assignment\n",
        "assignment = get_student_assignment(STUDENT_ID)\n",
        "poly_type = assignment[\"polynomial_type\"]\n",
        "degree = assignment[\"degree\"]\n",
        "coefficients = assignment[\"coefficients\"]\n",
        "noise_std = assignment[\"noise_std\"]\n",
        "hidden1 = assignment[\"architecture\"][\"hidden1\"]\n",
        "hidden2 = assignment[\"architecture\"][\"hidden2\"]\n",
        "learning_rate = assignment[\"architecture\"][\"lr\"]\n",
        "\n",
        "print(\"=\"*70)\n",
        "print(f\"ASSIGNMENT FOR STUDENT ID: {STUDENT_ID}\")\n",
        "print(\"=\"*70)\n",
        "print(f\"Polynomial Type: {assignment['polynomial_desc']}\")\n",
        "print(f\"Noise Level: ε ~ N(0, {noise_std:.2f})\")\n",
        "print(f\"Architecture: Input(1) → Hidden({hidden1}) → Hidden({hidden2}) → Output(1)\")\n",
        "print(f\"Learning Rate: {learning_rate}\")\n",
        "print(f\"Architecture Type: {assignment['architecture']['batch_desc']}\")\n",
        "print(\"=\"*70)\n"
      ]
    },
    {
      "cell_type": "markdown",
      "metadata": {
        "id": "lDuLSwIGsKKW"
      },
      "source": [
        "# DATASET GENERATION - DO NOT MODIFY"
      ]
    },
    {
      "cell_type": "code",
      "execution_count": 4,
      "metadata": {
        "colab": {
          "base_uri": "https://localhost:8080/"
        },
        "id": "zKJO4YsGr9gr",
        "outputId": "0575bcb1-c6b6-4560-b465-5fb0ce3a6715"
      },
      "outputs": [
        {
          "output_type": "stream",
          "name": "stdout",
          "text": [
            "Dataset with 100,000 samples generated and saved!\n",
            "Training samples: 80,000\n",
            "Test samples: 20,000\n"
          ]
        }
      ],
      "source": [
        "np.random.seed(assignment[\"student_seed\"])\n",
        "\n",
        "n_samples = 100000\n",
        "x = np.random.uniform(-100, 100, n_samples)\n",
        "\n",
        "\n",
        "if poly_type == 0:\n",
        "    _, b, c, d = coefficients\n",
        "    y = b * x**2 + c * x + d + np.random.normal(0, noise_std, n_samples)\n",
        "\n",
        "elif poly_type == 1:\n",
        "    a, b, c, d = coefficients\n",
        "    y = a * x**3 + b * x**2 + c * x + d + np.random.normal(0, noise_std, n_samples)\n",
        "\n",
        "elif poly_type == 2:\n",
        "    a, b, c, d, e = coefficients\n",
        "    y = a * x**4 + b * x**3 + c * x**2 + d * x + e + np.random.normal(0, noise_std, n_samples)\n",
        "\n",
        "elif poly_type == 3:\n",
        "    a, b, c, d, freq, amp = coefficients\n",
        "    y = a * x**3 + b * x**2 + c * x + d + amp * np.sin(freq * x) + np.random.normal(0, noise_std, n_samples)\n",
        "\n",
        "else:\n",
        "    a, b, c, d, inv_coeff = coefficients\n",
        "\n",
        "    y = a * x**3 + b * x**2 + c * x + d + inv_coeff / (x + np.sign(x) * 0.1) + np.random.normal(0, noise_std, n_samples)\n",
        "\n",
        "\n",
        "df = pd.DataFrame({'x': x, 'y': y})\n",
        "df.to_csv('student_polynomial_dataset.csv', index=False)\n",
        "print(f\"Dataset with {n_samples:,} samples generated and saved!\")\n",
        "\n",
        "X = df['x'].values.reshape(-1, 1)\n",
        "Y = df['y'].values.reshape(-1, 1)\n",
        "\n",
        "X_train, X_test, Y_train, Y_test = train_test_split(X, Y, test_size=0.2, random_state=42)\n",
        "\n",
        "scaler_X = StandardScaler()\n",
        "scaler_Y = StandardScaler()\n",
        "\n",
        "X_train_scaled = scaler_X.fit_transform(X_train)\n",
        "X_test_scaled = scaler_X.transform(X_test)\n",
        "Y_train_scaled = scaler_Y.fit_transform(Y_train)\n",
        "Y_test_scaled = scaler_Y.transform(Y_test)\n",
        "\n",
        "print(f\"Training samples: {len(X_train_scaled):,}\")\n",
        "print(f\"Test samples: {len(X_test_scaled):,}\")"
      ]
    },
    {
      "cell_type": "markdown",
      "metadata": {
        "id": "DsszlTbRsit-"
      },
      "source": [
        "# ACTIVATION FUNCTIONS- TODO: IMPLEMENT"
      ]
    },
    {
      "cell_type": "code",
      "execution_count": 5,
      "metadata": {
        "id": "3EbkfViPsdew"
      },
      "outputs": [],
      "source": [
        "def relu(z):\n",
        "    # ReLU activation: max(0, z)\n",
        "    return np.maximum(0, z)\n",
        "\n",
        "def relu_derivative(z):\n",
        "    # Derivative: 1 if z > 0 else 0\n",
        "    return (z > 0).astype(float)\n"
      ]
    },
    {
      "cell_type": "markdown",
      "metadata": {
        "id": "wMv1RPJesvpj"
      },
      "source": [
        "# LOSS FUNCTION- TODO: IMPLEMENT"
      ]
    },
    {
      "cell_type": "code",
      "execution_count": 6,
      "metadata": {
        "id": "-BnFOQcFsuBl"
      },
      "outputs": [],
      "source": [
        "def mse_loss(y_true, y_pred):\n",
        "    # Mean Squared Error\n",
        "    return np.mean((y_true - y_pred) ** 2)\n"
      ]
    },
    {
      "cell_type": "markdown",
      "metadata": {
        "id": "1j9JKYEAvc1B"
      },
      "source": [
        "# WEIGHT INITIALIZATION - TODO: IMPLEMENT XAVIER INITIALIZATION\n",
        "## **Xavier (Glorot) Initialization**\n",
        "\n",
        "When training neural networks, how we initialize weights matters.  \n",
        "- If weights are **too small** → activations and gradients vanish.  \n",
        "- If weights are **too large** → activations and gradients explode.  \n",
        "\n",
        "#**Xavier initialization** (Glorot & Bengio, 2010) balances this by keeping the variance of activations roughly the same across all layers.\n",
        "\n",
        "---\n",
        "\n",
        "### Formula\n",
        "\n",
        "Let:  \n",
        "- **fan_in** = number of input units to a layer  \n",
        "- **fan_out** = number of output units from a layer  \n",
        "\n",
        "The variance of weights is:\n",
        "\n",
        "![image.png](data:image/png;base64,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)\n",
        "\n",
        "\n",
        "##Two common forms:  \n",
        "\n",
        "#**Normal distribution:**  \n",
        "![image.png](data:image/png;base64,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)\n",
        "\n",
        "#**Uniform distribution:**  \n",
        "![image.png](data:image/png;base64,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)\n",
        "\n",
        "Biases are initialized to **0**.\n",
        "\n",
        "---\n",
        "\n",
        "### In This Assignment\n",
        "- **W1 (input → hidden1):** `fan_in = input_dim`, `fan_out = hidden1`  \n",
        "- **W2 (hidden1 → hidden2):** `fan_in = hidden1`, `fan_out = hidden2`  \n",
        "- **W3 (hidden2 → output):** `fan_in = hidden2`, `fan_out = output_dim`  \n",
        "\n",
        "Your task: compute the correct `xavier_std` for each layer, sample weights from a normal distribution with that std, and set biases = 0.\n",
        "\n"
      ]
    },
    {
      "cell_type": "code",
      "execution_count": 7,
      "metadata": {
        "id": "wIS1mAiWs80Z"
      },
      "outputs": [],
      "source": [
        "def xavier_initialization(input_dim, hidden1, hidden2, output_dim):\n",
        "    \"\"\"\n",
        "    Xavier (Glorot) initialization with normal distribution.\n",
        "    W ~ N(0, sqrt(2/(fan_in + fan_out)))\n",
        "    Biases initialized to 0.\n",
        "    \"\"\"\n",
        "    np.random.seed(assignment[\"student_seed\"])\n",
        "\n",
        "    # Layer 1: input → hidden1\n",
        "    fan_in, fan_out = input_dim, hidden1\n",
        "    xavier_std = np.sqrt(2.0 / (fan_in + fan_out))\n",
        "    W1 = np.random.normal(0, xavier_std, (fan_in, fan_out))\n",
        "    b1 = np.zeros((1, fan_out))\n",
        "\n",
        "    # Layer 2: hidden1 → hidden2\n",
        "    fan_in, fan_out = hidden1, hidden2\n",
        "    xavier_std = np.sqrt(2.0 / (fan_in + fan_out))\n",
        "    W2 = np.random.normal(0, xavier_std, (fan_in, fan_out))\n",
        "    b2 = np.zeros((1, fan_out))\n",
        "\n",
        "    # Layer 3: hidden2 → output\n",
        "    fan_in, fan_out = hidden2, output_dim\n",
        "    xavier_std = np.sqrt(2.0 / (fan_in + fan_out))\n",
        "    W3 = np.random.normal(0, xavier_std, (fan_in, fan_out))\n",
        "    b3 = np.zeros((1, fan_out))\n",
        "\n",
        "    return W1, b1, W2, b2, W3, b3\n"
      ]
    },
    {
      "cell_type": "markdown",
      "metadata": {
        "id": "iewSaGkDs9ar"
      },
      "source": [
        "# FORWARD PROPAGATION - TODO: IMPLEMENT"
      ]
    },
    {
      "cell_type": "code",
      "execution_count": 8,
      "metadata": {
        "id": "PJtjFRAQsmht"
      },
      "outputs": [],
      "source": [
        "def forward_pass(X, W1, b1, W2, b2, W3, b3):\n",
        "    \"\"\"\n",
        "    Forward pass: Input → Hidden1(ReLU) → Hidden2(ReLU) → Output(Linear)\n",
        "    \"\"\"\n",
        "    # Hidden layer 1\n",
        "    z1 = np.dot(X, W1) + b1\n",
        "    a1 = relu(z1)\n",
        "\n",
        "    # Hidden layer 2\n",
        "    z2 = np.dot(a1, W2) + b2\n",
        "    a2 = relu(z2)\n",
        "\n",
        "    # Output layer (linear)\n",
        "    z3 = np.dot(a2, W3) + b3\n",
        "\n",
        "    return z1, a1, z2, a2, z3\n"
      ]
    },
    {
      "cell_type": "markdown",
      "metadata": {
        "id": "kWDBH_NtvyxY"
      },
      "source": [
        "# BACKWARD PROPAGATION - TODO:IMPLEMENT"
      ]
    },
    {
      "cell_type": "code",
      "execution_count": 9,
      "metadata": {
        "id": "ThOwNs9Tv1Ra"
      },
      "outputs": [],
      "source": [
        "def backward_pass(X, Y_true, z1, a1, z2, a2, Y_pred, W2, W3):\n",
        "    \"\"\"\n",
        "    Backpropagation for 2-hidden-layer NN with ReLU activations and MSE loss.\n",
        "    \"\"\"\n",
        "    m = X.shape[0]  # Batch size\n",
        "\n",
        "    # ---- Output layer ----\n",
        "    dY_pred = (2 / m) * (Y_pred - Y_true)  # dL/dY_pred\n",
        "\n",
        "    dW3 = np.dot(a2.T, dY_pred)\n",
        "    db3 = np.sum(dY_pred, axis=0, keepdims=True)\n",
        "\n",
        "    # ---- Hidden layer 2 ----\n",
        "    da2 = np.dot(dY_pred, W3.T)\n",
        "    dz2 = da2 * relu_derivative(z2)\n",
        "\n",
        "    dW2 = np.dot(a1.T, dz2)\n",
        "    db2 = np.sum(dz2, axis=0, keepdims=True)\n",
        "\n",
        "    # ---- Hidden layer 1 ----\n",
        "    da1 = np.dot(dz2, W2.T)\n",
        "    dz1 = da1 * relu_derivative(z1)\n",
        "\n",
        "    dW1 = np.dot(X.T, dz1)\n",
        "    db1 = np.sum(dz1, axis=0, keepdims=True)\n",
        "\n",
        "    return dW1, db1, dW2, db2, dW3, db3\n"
      ]
    },
    {
      "cell_type": "markdown",
      "metadata": {
        "id": "yQuIpTSTv9Fd"
      },
      "source": [
        "# TRAINING FUNCTION - TODO:  COMPLETE IMPLEMENTATION"
      ]
    },
    {
      "cell_type": "code",
      "execution_count": 10,
      "metadata": {
        "id": "6xAgRedsv9xV"
      },
      "outputs": [],
      "source": [
        "def train_neural_network(X_train, Y_train, X_test, Y_test, epochs=200, patience=10):\n",
        "    \"\"\"\n",
        "    Train the neural network with early stopping and track losses.\n",
        "    \"\"\"\n",
        "\n",
        "    # Initialize weights with Xavier initialization\n",
        "    W1, b1, W2, b2, W3, b3 = xavier_initialization(1, hidden1, hidden2, 1)\n",
        "\n",
        "    best_test_loss = float('inf')\n",
        "    best_weights = None\n",
        "    patience_counter = 0\n",
        "\n",
        "    train_losses = []\n",
        "    test_losses = []\n",
        "\n",
        "    print(\"Starting training...\")\n",
        "    print(f\"Architecture: 1 → {hidden1} → {hidden2} → 1\")\n",
        "    print(f\"Learning Rate: {learning_rate}\")\n",
        "    print(f\"Max Epochs: {epochs}, Early Stopping Patience: {patience}\")\n",
        "    print(\"-\" * 50)\n",
        "\n",
        "    for epoch in range(epochs):\n",
        "\n",
        "        # Forward pass\n",
        "        z1, a1, z2, a2, Y_pred_train = forward_pass(X_train, W1, b1, W2, b2, W3, b3)\n",
        "\n",
        "        # Compute training loss\n",
        "        train_loss = mse_loss(Y_train, Y_pred_train)\n",
        "\n",
        "        # Backpropagation\n",
        "        dW1, db1, dW2, db2, dW3, db3 = backward_pass(\n",
        "            X_train, Y_train, z1, a1, z2, a2, Y_pred_train, W2, W3\n",
        "        )\n",
        "\n",
        "        # -------- Gradient descent parameter update --------\n",
        "        W1 -= learning_rate * dW1\n",
        "        b1 -= learning_rate * db1\n",
        "        W2 -= learning_rate * dW2\n",
        "        b2 -= learning_rate * db2\n",
        "        W3 -= learning_rate * dW3\n",
        "        b3 -= learning_rate * db3\n",
        "        # ---------------------------------------------------\n",
        "\n",
        "        # Forward pass on test data\n",
        "        _, _, _, _, Y_pred_test = forward_pass(X_test, W1, b1, W2, b2, W3, b3)\n",
        "        test_loss = mse_loss(Y_test, Y_pred_test)\n",
        "\n",
        "        # Track losses\n",
        "        train_losses.append(train_loss)\n",
        "        test_losses.append(test_loss)\n",
        "\n",
        "        # Print progress every 20 epochs\n",
        "        if (epoch + 1) % 20 == 0:\n",
        "            print(f\"Epoch {epoch+1:3d}: Train Loss = {train_loss:.6f}, Test Loss = {test_loss:.6f}\")\n",
        "\n",
        "        # Early stopping check\n",
        "        if test_loss < best_test_loss:\n",
        "            best_test_loss = test_loss\n",
        "            best_weights = (W1.copy(), b1.copy(), W2.copy(), b2.copy(), W3.copy(), b3.copy())\n",
        "            patience_counter = 0\n",
        "        else:\n",
        "            patience_counter += 1\n",
        "\n",
        "        if patience_counter >= patience:\n",
        "            print(f\"Early stopping triggered at epoch {epoch+1}\")\n",
        "            print(f\"Best test loss: {best_test_loss:.6f}\")\n",
        "            break\n",
        "\n",
        "    return best_weights, train_losses, test_losses\n"
      ]
    },
    {
      "cell_type": "markdown",
      "metadata": {
        "id": "bgqh5y66wIJX"
      },
      "source": [
        "# EXECUTE TRAINING"
      ]
    },
    {
      "cell_type": "code",
      "execution_count": 11,
      "metadata": {
        "id": "goNgQ0P1wFGw",
        "colab": {
          "base_uri": "https://localhost:8080/"
        },
        "outputId": "bdfe1099-90f3-4ffa-be9b-0e96c3701445"
      },
      "outputs": [
        {
          "output_type": "stream",
          "name": "stdout",
          "text": [
            "Training Neural Network with your specific configuration...\n",
            "Starting training...\n",
            "Architecture: 1 → 72 → 32 → 1\n",
            "Learning Rate: 0.001\n",
            "Max Epochs: 500, Early Stopping Patience: 10\n",
            "--------------------------------------------------\n",
            "Epoch  20: Train Loss = 0.853287, Test Loss = 0.854538\n",
            "Epoch  40: Train Loss = 0.801855, Test Loss = 0.802920\n",
            "Epoch  60: Train Loss = 0.754241, Test Loss = 0.755097\n",
            "Epoch  80: Train Loss = 0.709972, Test Loss = 0.710626\n",
            "Epoch 100: Train Loss = 0.668798, Test Loss = 0.669275\n",
            "Epoch 120: Train Loss = 0.631130, Test Loss = 0.631502\n",
            "Epoch 140: Train Loss = 0.597195, Test Loss = 0.597439\n",
            "Epoch 160: Train Loss = 0.565734, Test Loss = 0.565842\n",
            "Epoch 180: Train Loss = 0.537215, Test Loss = 0.537308\n",
            "Epoch 200: Train Loss = 0.512477, Test Loss = 0.512485\n",
            "Epoch 220: Train Loss = 0.489400, Test Loss = 0.489292\n",
            "Epoch 240: Train Loss = 0.467728, Test Loss = 0.467508\n",
            "Epoch 260: Train Loss = 0.447417, Test Loss = 0.447097\n",
            "Epoch 280: Train Loss = 0.428390, Test Loss = 0.427970\n",
            "Epoch 300: Train Loss = 0.410493, Test Loss = 0.409978\n",
            "Epoch 320: Train Loss = 0.393660, Test Loss = 0.393067\n",
            "Epoch 340: Train Loss = 0.377891, Test Loss = 0.377211\n",
            "Epoch 360: Train Loss = 0.363172, Test Loss = 0.362422\n",
            "Epoch 380: Train Loss = 0.349496, Test Loss = 0.348686\n",
            "Epoch 400: Train Loss = 0.336857, Test Loss = 0.335998\n",
            "Epoch 420: Train Loss = 0.325224, Test Loss = 0.324324\n",
            "Epoch 440: Train Loss = 0.314544, Test Loss = 0.313609\n",
            "Epoch 460: Train Loss = 0.304757, Test Loss = 0.303791\n",
            "Epoch 480: Train Loss = 0.295777, Test Loss = 0.294780\n",
            "Epoch 500: Train Loss = 0.287512, Test Loss = 0.286488\n"
          ]
        }
      ],
      "source": [
        "print(\"Training Neural Network with your specific configuration...\")\n",
        "weights, train_losses, test_losses = train_neural_network(\n",
        "    X_train_scaled, Y_train_scaled, X_test_scaled, Y_test_scaled,\n",
        "    epochs=500, patience=10\n",
        ")"
      ]
    },
    {
      "cell_type": "markdown",
      "metadata": {
        "id": "_TRnuROpwMFg"
      },
      "source": [
        "# RESULTS VISUALIZATION"
      ]
    },
    {
      "cell_type": "code",
      "execution_count": 12,
      "metadata": {
        "id": "DAJc933xwNtM",
        "colab": {
          "base_uri": "https://localhost:8080/",
          "height": 491
        },
        "outputId": "94eac90c-c912-4dda-9d4c-9824a581482a"
      },
      "outputs": [
        {
          "output_type": "display_data",
          "data": {
            "text/plain": [
              "<Figure size 1500x500 with 2 Axes>"
            ],
            "image/png": "[encoded data removed]"
          },
          "metadata": {}
        }
      ],
      "source": [
        "# Plot training progress\n",
        "plt.figure(figsize=(15, 5))\n",
        "\n",
        "# Loss curves\n",
        "plt.subplot(1, 3, 1)\n",
        "plt.plot(train_losses, label='Training Loss', color='blue', alpha=0.7)\n",
        "plt.plot(test_losses, label='Test Loss', color='red', alpha=0.7)\n",
        "plt.xlabel('Epoch')\n",
        "plt.ylabel('MSE Loss')\n",
        "plt.title('Training & Test Loss Over Time')\n",
        "plt.legend()\n",
        "plt.grid(True, alpha=0.3)\n",
        "\n",
        "# Get final predictions for visualization\n",
        "W1, b1, W2, b2, W3, b3 = weights\n",
        "_, _, _, _, Y_pred_scaled = forward_pass(X_test_scaled, W1, b1, W2, b2, W3, b3)\n",
        "\n",
        "# Inverse transform to original scale\n",
        "Y_test_orig = scaler_Y.inverse_transform(Y_test_scaled)\n",
        "Y_pred_orig = scaler_Y.inverse_transform(Y_pred_scaled)\n",
        "X_test_orig = scaler_X.inverse_transform(X_test_scaled)\n",
        "\n",
        "# Predictions vs Actual\n",
        "plt.subplot(1, 3, 2)\n",
        "plt.scatter(X_test_orig, Y_test_orig, s=1, alpha=0.3, label='Actual', color='blue')\n",
        "plt.scatter(X_test_orig, Y_pred_orig, s=1, alpha=0.3, label='Predicted', color='red')\n",
        "plt.xlabel('x')\n",
        "plt.ylabel('y')\n",
        "plt.title('Neural Network Predictions vs Actual')\n",
        "plt.legend()\n",
        "plt.grid(True, alpha=0.3)\n",
        "\n",
        "# Residual plot\n",
        "# plt.subplot(1, 3, 3)\n",
        "# residuals = Y_test_orig.flatten() - Y_pred_orig.flatten()\n",
        "# plt.scatter(X_test_orig, residuals, s=1, alpha=0.3, color='green')\n",
        "# plt.axhline(y=0, color='black', linestyle='--', alpha=0.5)\n",
        "# plt.xlabel('x')\n",
        "# plt.ylabel('Residuals (Actual - Predicted)')\n",
        "# plt.title('Residual Analysis')\n",
        "# plt.grid(True, alpha=0.3)\n",
        "\n",
        "plt.tight_layout()\n",
        "plt.show()"
      ]
    },
    {
      "cell_type": "markdown",
      "metadata": {
        "id": "VRQPcgQuwSzx"
      },
      "source": [
        "SPECIFIC PREDICTION TEST"
      ]
    },
    {
      "cell_type": "code",
      "execution_count": 13,
      "metadata": {
        "id": "S8lE9UOwwUv3",
        "colab": {
          "base_uri": "https://localhost:8080/"
        },
        "outputId": "d51c6773-87a2-42ab-ddf3-294090fdc1ab"
      },
      "outputs": [
        {
          "output_type": "stream",
          "name": "stdout",
          "text": [
            "\n",
            "============================================================\n",
            "PREDICTION RESULTS FOR x = 90.2\n",
            "============================================================\n",
            "Neural Network Prediction: 660,377.96\n",
            "Ground Truth (formula):    1,474,064.48\n",
            "Absolute Error:            813,686.52\n",
            "Relative Error:            55.200%\n"
          ]
        }
      ],
      "source": [
        "\n",
        "x_test_value = 90.2\n",
        "x_new = np.array([[x_test_value]])\n",
        "x_new_scaled = scaler_X.transform(x_new)\n",
        "\n",
        "_, _, _, _, y_pred_scaled = forward_pass(x_new_scaled, W1, b1, W2, b2, W3, b3)\n",
        "y_pred = scaler_Y.inverse_transform(y_pred_scaled)\n",
        "\n",
        "if poly_type == 0:\n",
        "    _, b, c, d = coefficients\n",
        "    y_true = b * x_test_value**2 + c * x_test_value + d\n",
        "\n",
        "elif poly_type == 1:\n",
        "    a, b, c, d = coefficients\n",
        "    y_true = a * x_test_value**3 + b * x_test_value**2 + c * x_test_value + d\n",
        "\n",
        "elif poly_type == 2:\n",
        "    a, b, c, d, e = coefficients\n",
        "    y_true = a * x_test_value**4 + b * x_test_value**3 + c * x_test_value**2 + d * x_test_value + e\n",
        "\n",
        "elif poly_type == 3:\n",
        "    a, b, c, d, freq, amp = coefficients\n",
        "    y_true = a * x_test_value**3 + b * x_test_value**2 + c * x_test_value + d + amp * np.sin(freq * x_test_value)\n",
        "\n",
        "else:\n",
        "    a, b, c, d, inv_coeff = coefficients\n",
        "    y_true = a * x_test_value**3 + b * x_test_value**2 + c * x_test_value + d + inv_coeff / (x_test_value + np.sign(x_test_value) * 0.1)\n",
        "\n",
        "print(\"\\n\" + \"=\"*60)\n",
        "print(\"PREDICTION RESULTS FOR x = 90.2\")\n",
        "print(\"=\"*60)\n",
        "print(f\"Neural Network Prediction: {y_pred[0][0]:,.2f}\")\n",
        "print(f\"Ground Truth (formula):    {y_true:,.2f}\")\n",
        "print(f\"Absolute Error:            {abs(y_pred[0][0] - y_true):,.2f}\")\n",
        "print(f\"Relative Error:            {abs(y_pred[0][0] - y_true)/abs(y_true)*100:.3f}%\")\n",
        "\n"
      ]
    },
    {
      "cell_type": "markdown",
      "metadata": {
        "id": "PFW_llRzwX0U"
      },
      "source": [
        "# PERFORMANCE METRICS"
      ]
    },
    {
      "cell_type": "code",
      "execution_count": 14,
      "metadata": {
        "id": "Y0e2jCixwaCv",
        "colab": {
          "base_uri": "https://localhost:8080/"
        },
        "outputId": "d747914d-5884-4c24-b8ca-101e18a54c6b"
      },
      "outputs": [
        {
          "output_type": "stream",
          "name": "stdout",
          "text": [
            "\n",
            "============================================================\n",
            "FINAL PERFORMANCE SUMMARY\n",
            "============================================================\n",
            "Final Training Loss: 0.287512\n",
            "Final Test Loss:     0.286488\n",
            "R² Score:           0.7150\n",
            "Total Epochs Run:   500\n"
          ]
        }
      ],
      "source": [
        "# Calculate final performance metrics\n",
        "final_train_loss = train_losses[-1] if train_losses else float('inf')\n",
        "final_test_loss = test_losses[-1] if test_losses else float('inf')\n",
        "\n",
        "# Calculate R² score\n",
        "y_test_mean = np.mean(Y_test_orig)\n",
        "ss_res = np.sum((Y_test_orig - Y_pred_orig) ** 2)\n",
        "ss_tot = np.sum((Y_test_orig - y_test_mean) ** 2)\n",
        "r2_score = 1 - (ss_res / ss_tot)\n",
        "\n",
        "print(\"\\n\" + \"=\"*60)\n",
        "print(\"FINAL PERFORMANCE SUMMARY\")\n",
        "print(\"=\"*60)\n",
        "print(f\"Final Training Loss: {final_train_loss:.6f}\")\n",
        "print(f\"Final Test Loss:     {final_test_loss:.6f}\")\n",
        "print(f\"R² Score:           {r2_score:.4f}\")\n",
        "print(f\"Total Epochs Run:   {len(train_losses)}\")"
      ]
    }
  ],
  "metadata": {
    "colab": {
      "provenance": []
    },
    "kernelspec": {
      "display_name": "Python 3",
      "name": "python3"
    },
    "language_info": {
      "name": "python"
    }
  },
  "nbformat": 4,
  "nbformat_minor": 0
}